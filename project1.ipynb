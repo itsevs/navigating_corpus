{
 "cells": [
  {
   "cell_type": "markdown",
   "id": "3bf88200",
   "metadata": {},
   "source": [
    "# Manning Project 1: Text Search with spaCy and scikit-learn"
   ]
  },
  {
   "cell_type": "markdown",
   "id": "89e3f317",
   "metadata": {},
   "source": [
    "Primera parte: Preprocesamiento de los datos con spaCy"
   ]
  },
  {
   "cell_type": "code",
   "execution_count": 3,
   "id": "bb18fbdf",
   "metadata": {},
   "outputs": [],
   "source": [
    "import collections\n",
    "import json\n",
    "import spacy # hay un bug en python==3.7.1 que no permite cargar este paquete. actualizado a python 3.7.2 funciona\n",
    "             # Lo mismo con la descarga python -m spacy download en_core_web_sm, hay que actualizar a 3.7.2 para que funcione\n",
    "             # descargado el modelo con python -m spacy download en_core_web_sm en cmd.exe del entorno python37, ahora se puede\n",
    "             # acceder a él con spacy.load('en_core_web_sm') (ver https://spacy.io/usage/models)\n",
    "nlp = spacy.load('en_core_web_sm')"
   ]
  },
  {
   "cell_type": "code",
   "execution_count": 4,
   "id": "ff28080b",
   "metadata": {},
   "outputs": [],
   "source": [
    "def process(string):\n",
    "    tokens = nlp(string.lower()) # Esto es un documento \"spaCy\". Tokeniza las palabras convertidas a minúsculas\n",
    "    processed = [token.lemma_\n",
    "                 for token in tokens\n",
    "                 if not token.is_stop\n",
    "                 and not token.is_punct\n",
    "                 and token.is_alpha\n",
    "                 and token.is_ascii]\n",
    "    return processed"
   ]
  },
  {
   "cell_type": "code",
   "execution_count": 5,
   "id": "d1a4229a",
   "metadata": {},
   "outputs": [],
   "source": [
    "with open('data.json', 'r') as jsonFile:\n",
    "    data = json.load(jsonFile)\n",
    "    for doc in data:\n",
    "        doc['tokenized_text'] = process(doc['text'])\n",
    "        '''\n",
    "        print('Titulo: ' + p['title'])\n",
    "        print('Texto: ' + str(\" \".join(process(p['text']))))\n",
    "        print('URL: ' + p['url'])\n",
    "        print('')\n",
    "        '''\n",
    "    with open('tokenized.json', 'w') as outfile:\n",
    "        json.dump(data, outfile)"
   ]
  },
  {
   "cell_type": "code",
   "execution_count": null,
   "id": "af0af7ee",
   "metadata": {},
   "outputs": [],
   "source": []
  }
 ],
 "metadata": {
  "kernelspec": {
   "display_name": "Python 3 (ipykernel)",
   "language": "python",
   "name": "python3"
  },
  "language_info": {
   "codemirror_mode": {
    "name": "ipython",
    "version": 3
   },
   "file_extension": ".py",
   "mimetype": "text/x-python",
   "name": "python",
   "nbconvert_exporter": "python",
   "pygments_lexer": "ipython3",
   "version": "3.7.2"
  }
 },
 "nbformat": 4,
 "nbformat_minor": 5
}
